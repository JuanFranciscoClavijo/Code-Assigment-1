{
 "cells": [
  {
   "cell_type": "markdown",
   "id": "b01988f3",
   "metadata": {},
   "source": [
    "### Ejercicio 1.2"
   ]
  },
  {
   "cell_type": "markdown",
   "id": "c7d50c5d",
   "metadata": {},
   "source": [
    "Suppose that we use a perceptron to detect spam messages. Let's say that each email message is represented by the frquency of occurrence of keywords, and the output is +1 if the message is considered spam.\n",
    "\n",
    "* Can you think of some keywords that will end up with a large positive weight in the perceptron?\n",
    "\n",
    "* How about keywords that will get a negative weight?\n",
    "\n",
    "* What parameter in the perceptron directly affects how many borderline messages end up being classified as spam?\n"
   ]
  },
  {
   "cell_type": "markdown",
   "id": "8fc34efe",
   "metadata": {},
   "source": [
    "* Para palabras clave que tendrían un peso positivo grande en el perceptrón, podríamos pensar en términos como \"oferta\", \"ganar dinero\", \"gratis\", \"promoción\",\"pague 2 lleve 1\", \"Por tiempo limitado\" palabras comúnmente usadas en mensajes de spam.Es importante tener en cuenta que no todas las palabras clave utilizadas en los mensajes de correo electrónico de spam tendrán un peso positivo grande en el perceptrón. El proceso de selección de palabras clave efectivas es un desafío importante en el diseño de un algoritmo de detección de spam efectivo..\n",
    "\n",
    "\n",
    "* Para las palabras clave que obtendrían un peso negativo, podríamos pensar en términos que son comunes en los mensajes no spam, como \"trabajo\", \"carrera\", \"estudio\",\"informes\",\"proyectos\" entre otros.\n",
    "\n",
    "\n",
    "* El parámetro en el perceptrón que afectaría directamente cuántos mensajes borderline se clasifican como spam es el umbral de decisión. Si el umbral se establece en un valor más bajo, entonces más mensajes borderline se clasificarían como spam, mientras que si el umbral se establece en un valor más alto, entonces menos mensajes borderline se clasificarían como spam.\n"
   ]
  },
  {
   "cell_type": "markdown",
   "id": "a732caee",
   "metadata": {},
   "source": [
    "### Ejercicio 1.3"
   ]
  },
  {
   "cell_type": "markdown",
   "id": "47db5455",
   "metadata": {},
   "source": [
    "The weight update rule in (1.3) has the nice interpretation that it moves in the direction of classifying x(t) correctly.\n",
    "* Show that $$y(t){w}^{T}x(t)<0$$[Hint:x(t) is misclassified by w(t).]"
   ]
  },
  {
   "cell_type": "markdown",
   "id": "bb7d3acd",
   "metadata": {},
   "source": [
    "Solucion:\n",
    "\n",
    " Si $x(t)$ es mal clasificado por $w(t)$ , entonces $w^{T}(t)x(t)$ tiene diferente signos de $y(t)$"
   ]
  },
  {
   "cell_type": "markdown",
   "id": "f3150d32",
   "metadata": {},
   "source": [
    "*  Show that $y(t)w^{T}(t+1)x(t)>y(t)w^{T}(t)x(t)$"
   ]
  },
  {
   "cell_type": "markdown",
   "id": "98906f25",
   "metadata": {},
   "source": [
    "Solución:   \n",
    "                         $$y(t)w^{T}(t+1)x(t)=y(t)(w(t)+y(t))^{T}x(t)$$\n",
    "                         $$=y(t)(w^{T}(t)+y(t)x^{T}(t))x(t)$$\n",
    "                         $$=y(t)w^{T}(t)x(t)+y(t)y(t)x^{T}(t)x(t)$$\n",
    "                         $$>y(t)w^{T}(t)x(t)$$\n",
    "                         \n",
    "Debido a que su ultimo termino es mayor o igual que cero                           "
   ]
  },
  {
   "cell_type": "markdown",
   "id": "31fdd04c",
   "metadata": {},
   "source": [
    "* As faras classifying $x(t)$ is concerned, argue that the move from $w(t)$ to $w(t+1)$ is a move 'in the right direction'"
   ]
  },
  {
   "cell_type": "markdown",
   "id": "0a8176c9",
   "metadata": {},
   "source": [
    "Solución:"
   ]
  },
  {
   "cell_type": "markdown",
   "id": "34ba5d09",
   "metadata": {},
   "source": [
    "Se puede ver va aumentando en cadad actualización:\n",
    "\n",
    "   Si $y(t)$ es positiva, pero $w^{T}(t)x(t)$ es negativa, nosotros movemos a $w^{T}(t)x(t)$ hacia positivos incrementandolo "
   ]
  },
  {
   "cell_type": "markdown",
   "id": "5e425ef8",
   "metadata": {},
   "source": [
    "Si por el contrario $y(t)$ es negativo , pero $w^{T}(t)x(t)$ es positivo, $y(t)w^{T}(t)x(t)$ aumenta significa  que esta disminuyendo, moviendose hacia la region negativa \n",
    "\n",
    "Por tanto, el movimiento de $w(t)$ a $w(t+1)$ es un movimiento \"en la dirección correcta\" en lo que respecta a la clasificación de x(t) se refiere."
   ]
  },
  {
   "cell_type": "markdown",
   "id": "c226cd01",
   "metadata": {},
   "source": [
    "### Ejercicio 1.10"
   ]
  },
  {
   "cell_type": "markdown",
   "id": "32bfdce8",
   "metadata": {},
   "source": [
    "Here is an experiment that illustrates the difference between a single bin\n",
    "and multiple bins. Rún a computer simulation for flipping 1,000 fair coins.\n",
    "Flip each coin independently 10 times. Let's focus on 3 coins as follows:\n",
    "eL is the first coin flipped; craM is a Coin you choose at random; Cnin”iS the coin that had the minimum frequency of heads (pick the earlier one in case of'a tie). Let 71, Vrand. and Vmin be the fraction of heads you obtain for the respective threé coins:\n",
    "\n",
    "(a) What is /1 for the three coins selected?"
   ]
  },
  {
   "cell_type": "code",
   "execution_count": 8,
   "id": "41f87d52",
   "metadata": {},
   "outputs": [],
   "source": [
    "#Librerias para el ejercicio\n",
    "import pandas as pd\n",
    "import numpy as np\n",
    "import sklearn\n",
    "import matplotlib.pyplot as plt\n",
    "from scipy.optimize import minimize\n",
    "import math\n",
    "from sklearn.preprocessing import normalize\n",
    "from functools import partial"
   ]
  },
  {
   "cell_type": "markdown",
   "id": "e332df67",
   "metadata": {},
   "source": [
    "(a) Los $\\mu$ de las tres monedas es $0.5$ ya que las monedas estan equilibradas(tienen la misma probabilidad)."
   ]
  },
  {
   "cell_type": "code",
   "execution_count": 15,
   "id": "89d561ac",
   "metadata": {},
   "outputs": [
    {
     "name": "stdout",
     "output_type": "stream",
     "text": [
      "Fracción de caras para cada moneda:\n",
      "Coin 1: 0.6\n",
      "Coin 2: 0.6\n",
      "Coin 3: 0.0\n"
     ]
    }
   ],
   "source": [
    "# Lanzar las 1000 monedas 10 veces\n",
    "flips = np.random.binomial(1, 0.5, (1000, 10))\n",
    "\n",
    "# Obtener los resultados de cada moneda\n",
    "coin1 = flips[0]\n",
    "coin2 = flips[np.random.choice(1000)]\n",
    "coin3 = flips[np.argmin(np.sum(flips, axis=1))]\n",
    "\n",
    "# Calcular las fracciones de caras para cada moneda\n",
    "f1 = np.mean(coin1)\n",
    "f2 = np.mean(coin2)\n",
    "f3 = np.mean(coin3)\n",
    "\n",
    "print(\"Fracción de caras para cada moneda:\")\n",
    "print(\"Coin 1:\", f1)\n",
    "print(\"Coin 2:\", f2)\n",
    "print(\"Coin 3:\", f3)"
   ]
  },
  {
   "cell_type": "markdown",
   "id": "27243455",
   "metadata": {},
   "source": [
    "(b) Repeat this entire experiment a large number of times (e.E., 100,000\n",
    "runs: of the entire experiment) to get several instances of 71, Vrand\n",
    "and Vmin and plot the histograms of the distributions of y, Vrand and\n",
    "Vin: Notice that which coins end up being crand and cimin: may differ\n",
    "from one run to another,"
   ]
  },
  {
   "cell_type": "code",
   "execution_count": 23,
   "id": "d51a28d5",
   "metadata": {},
   "outputs": [
    {
     "data": {
      "image/png": "[encoded data removed]",
      "text/plain": [
       "<Figure size 432x288 with 1 Axes>"
      ]
     },
     "metadata": {
      "needs_background": "light"
     },
     "output_type": "display_data"
    }
   ],
   "source": [
    "import matplotlib.pyplot as plt\n",
    "\n",
    "# Repetir el experimento 100000 veces\n",
    "n_trials = 100000 #se define la variable n_trials con el número de veces que se va a repetir el experimento.\n",
    "results = np.zeros((n_trials, 3)) #Se crea un array de numpy llamado results que tendrá n_trials filas y 3 columnas. Esta matriz se usará para almacenar los resultados de cada repetición del experimento.\n",
    "for i in range(n_trials):#e inicia un bucle for que se ejecutará n_trials veces.\n",
    "\n",
    "    flips = np.random.binomial(1, 0.5, (1000, 10))#se generan aleatoriamente 1000 series de 10 lanzamientos de monedas\n",
    "    coin1 = flips[0] #e define la variable coin1 como la primera serie de lanzamientos.\n",
    "    coin2 = flips[np.random.choice(1000)] #se elige aleatoriamente una serie de lanzamientos de moneda y se define como coin2.\n",
    "    coin3 = flips[np.argmin(np.sum(flips, axis=1))] #se busca la serie de lanzamientos de moneda con la menor cantidad de caras y se define como coin3.\n",
    "    results[i] = [np.mean(coin1), np.mean(coin2), np.mean(coin3)] #se calcula la fracción de caras para cada una de las tres series de lanzamientos y se almacenan en la i-ésima fila de la matriz results.\n",
    "\n",
    "# Graficar los histogramas de las distribuciones\n",
    "plt.hist(results[:, 0], bins=30, alpha=0.5, label='C1')\n",
    "plt.hist(results[:, 1], bins=30, alpha=0.5, label='C2')\n",
    "plt.hist(results[:, 2], bins=30, alpha=0.5, label='Cmin')\n",
    "plt.legend(loc='upper right')\n",
    "plt.show()"
   ]
  },
  {
   "cell_type": "code",
   "execution_count": 24,
   "id": "d6802567",
   "metadata": {},
   "outputs": [
    {
     "data": {
      "image/png": "[encoded data removed]",
      "text/plain": [
       "<Figure size 432x288 with 1 Axes>"
      ]
     },
     "metadata": {
      "needs_background": "light"
     },
     "output_type": "display_data"
    },
    {
     "data": {
      "image/png": "[encoded data removed]",
      "text/plain": [
       "<Figure size 432x288 with 1 Axes>"
      ]
     },
     "metadata": {
      "needs_background": "light"
     },
     "output_type": "display_data"
    },
    {
     "data": {
      "image/png": "[encoded data removed]",
      "text/plain": [
       "<Figure size 432x288 with 1 Axes>"
      ]
     },
     "metadata": {
      "needs_background": "light"
     },
     "output_type": "display_data"
    }
   ],
   "source": [
    "import matplotlib.pyplot as plt\n",
    "\n",
    "# Repetir el experimento 100000 veces\n",
    "n_trials = 100000\n",
    "results = np.zeros((n_trials, 3))\n",
    "for i in range(n_trials):\n",
    "    flips = np.random.binomial(1, 0.5, (1000, 10))\n",
    "    coin1 = flips[0]\n",
    "    coin2 = flips[np.random.choice(1000)]\n",
    "    coin3 = flips[np.argmin(np.sum(flips, axis=1))]\n",
    "    results[i] = [np.mean(coin1), np.mean(coin2), np.mean(coin3)]\n",
    "\n",
    "# Graficar el histograma de El\n",
    "plt.hist(results[:, 0], bins=30)\n",
    "plt.title('C1')\n",
    "plt.xlabel('Fracción de caras')\n",
    "plt.ylabel('Frecuencia')\n",
    "plt.show()\n",
    "\n",
    "# Graficar el histograma de Mrand\n",
    "plt.hist(results[:, 1], bins=30)\n",
    "plt.title('C2')\n",
    "plt.xlabel('Fracción de caras')\n",
    "plt.ylabel('Frecuencia')\n",
    "plt.show()\n",
    "\n",
    "# Graficar el histograma de Cmin\n",
    "plt.hist(results[:, 2], bins=30)\n",
    "plt.title('Cmin')\n",
    "plt.xlabel('Fracción de caras')\n",
    "plt.ylabel('Frecuencia')\n",
    "plt.show()"
   ]
  },
  {
   "cell_type": "markdown",
   "id": "52c9b364",
   "metadata": {},
   "source": [
    "(c). Using (b), plot estimates for $P[|v—u| >\\epsilon ]$ as a function of $\\epsilon$, together with the Hoeffding bound $2(e^{-2\\epsilon^{2}N})$ (on the same graph).\n",
    "\n"
   ]
  },
  {
   "cell_type": "code",
   "execution_count": 25,
   "id": "9368783e",
   "metadata": {},
   "outputs": [
    {
     "name": "stderr",
     "output_type": "stream",
     "text": [
      "<ipython-input-25-cc984e0f4e32>:34: VisibleDeprecationWarning: Creating an ndarray from ragged nested sequences (which is a list-or-tuple of lists-or-tuples-or ndarrays with different lengths or shapes) is deprecated. If you meant to do this, you must specify 'dtype=object' when creating the ndarray.\n",
      "  results = np.array([run_experiment(1000, 10) for i in range(100000)])\n"
     ]
    },
    {
     "ename": "ValueError",
     "evalue": "x and y must have same first dimension, but have shapes (21,) and (1000,)",
     "output_type": "error",
     "traceback": [
      "\u001b[1;31m---------------------------------------------------------------------------\u001b[0m",
      "\u001b[1;31mValueError\u001b[0m                                Traceback (most recent call last)",
      "\u001b[1;32m<ipython-input-25-cc984e0f4e32>\u001b[0m in \u001b[0;36m<module>\u001b[1;34m\u001b[0m\n\u001b[0;32m     52\u001b[0m \u001b[0mplt\u001b[0m\u001b[1;33m.\u001b[0m\u001b[0mplot\u001b[0m\u001b[1;33m(\u001b[0m\u001b[0mepsilons\u001b[0m\u001b[1;33m,\u001b[0m \u001b[0mp_random\u001b[0m\u001b[1;33m,\u001b[0m \u001b[0mlabel\u001b[0m\u001b[1;33m=\u001b[0m\u001b[1;34m'Random Coin'\u001b[0m\u001b[1;33m)\u001b[0m\u001b[1;33m\u001b[0m\u001b[1;33m\u001b[0m\u001b[0m\n\u001b[0;32m     53\u001b[0m \u001b[0mplt\u001b[0m\u001b[1;33m.\u001b[0m\u001b[0mplot\u001b[0m\u001b[1;33m(\u001b[0m\u001b[0mepsilons\u001b[0m\u001b[1;33m,\u001b[0m \u001b[0mp_min\u001b[0m\u001b[1;33m,\u001b[0m \u001b[0mlabel\u001b[0m\u001b[1;33m=\u001b[0m\u001b[1;34m'Minimum Frequency Coin'\u001b[0m\u001b[1;33m)\u001b[0m\u001b[1;33m\u001b[0m\u001b[1;33m\u001b[0m\u001b[0m\n\u001b[1;32m---> 54\u001b[1;33m \u001b[0mplt\u001b[0m\u001b[1;33m.\u001b[0m\u001b[0mplot\u001b[0m\u001b[1;33m(\u001b[0m\u001b[0mepsilons\u001b[0m\u001b[1;33m,\u001b[0m \u001b[0mhoeffding\u001b[0m\u001b[1;33m,\u001b[0m \u001b[0mlabel\u001b[0m\u001b[1;33m=\u001b[0m\u001b[1;34m'Hoeffding Bound'\u001b[0m\u001b[1;33m)\u001b[0m\u001b[1;33m\u001b[0m\u001b[1;33m\u001b[0m\u001b[0m\n\u001b[0m\u001b[0;32m     55\u001b[0m \u001b[0mplt\u001b[0m\u001b[1;33m.\u001b[0m\u001b[0mxlabel\u001b[0m\u001b[1;33m(\u001b[0m\u001b[1;34m'$\\epsilon$'\u001b[0m\u001b[1;33m)\u001b[0m\u001b[1;33m\u001b[0m\u001b[1;33m\u001b[0m\u001b[0m\n\u001b[0;32m     56\u001b[0m \u001b[0mplt\u001b[0m\u001b[1;33m.\u001b[0m\u001b[0mylabel\u001b[0m\u001b[1;33m(\u001b[0m\u001b[1;34m'$P[|V - \\mu| > \\epsilon]$'\u001b[0m\u001b[1;33m)\u001b[0m\u001b[1;33m\u001b[0m\u001b[1;33m\u001b[0m\u001b[0m\n",
      "\u001b[1;32m~\\anaconda3\\lib\\site-packages\\matplotlib\\pyplot.py\u001b[0m in \u001b[0;36mplot\u001b[1;34m(scalex, scaley, data, *args, **kwargs)\u001b[0m\n\u001b[0;32m   2838\u001b[0m \u001b[1;33m@\u001b[0m\u001b[0m_copy_docstring_and_deprecators\u001b[0m\u001b[1;33m(\u001b[0m\u001b[0mAxes\u001b[0m\u001b[1;33m.\u001b[0m\u001b[0mplot\u001b[0m\u001b[1;33m)\u001b[0m\u001b[1;33m\u001b[0m\u001b[1;33m\u001b[0m\u001b[0m\n\u001b[0;32m   2839\u001b[0m \u001b[1;32mdef\u001b[0m \u001b[0mplot\u001b[0m\u001b[1;33m(\u001b[0m\u001b[1;33m*\u001b[0m\u001b[0margs\u001b[0m\u001b[1;33m,\u001b[0m \u001b[0mscalex\u001b[0m\u001b[1;33m=\u001b[0m\u001b[1;32mTrue\u001b[0m\u001b[1;33m,\u001b[0m \u001b[0mscaley\u001b[0m\u001b[1;33m=\u001b[0m\u001b[1;32mTrue\u001b[0m\u001b[1;33m,\u001b[0m \u001b[0mdata\u001b[0m\u001b[1;33m=\u001b[0m\u001b[1;32mNone\u001b[0m\u001b[1;33m,\u001b[0m \u001b[1;33m**\u001b[0m\u001b[0mkwargs\u001b[0m\u001b[1;33m)\u001b[0m\u001b[1;33m:\u001b[0m\u001b[1;33m\u001b[0m\u001b[1;33m\u001b[0m\u001b[0m\n\u001b[1;32m-> 2840\u001b[1;33m     return gca().plot(\n\u001b[0m\u001b[0;32m   2841\u001b[0m         \u001b[1;33m*\u001b[0m\u001b[0margs\u001b[0m\u001b[1;33m,\u001b[0m \u001b[0mscalex\u001b[0m\u001b[1;33m=\u001b[0m\u001b[0mscalex\u001b[0m\u001b[1;33m,\u001b[0m \u001b[0mscaley\u001b[0m\u001b[1;33m=\u001b[0m\u001b[0mscaley\u001b[0m\u001b[1;33m,\u001b[0m\u001b[1;33m\u001b[0m\u001b[1;33m\u001b[0m\u001b[0m\n\u001b[0;32m   2842\u001b[0m         **({\"data\": data} if data is not None else {}), **kwargs)\n",
      "\u001b[1;32m~\\anaconda3\\lib\\site-packages\\matplotlib\\axes\\_axes.py\u001b[0m in \u001b[0;36mplot\u001b[1;34m(self, scalex, scaley, data, *args, **kwargs)\u001b[0m\n\u001b[0;32m   1741\u001b[0m         \"\"\"\n\u001b[0;32m   1742\u001b[0m         \u001b[0mkwargs\u001b[0m \u001b[1;33m=\u001b[0m \u001b[0mcbook\u001b[0m\u001b[1;33m.\u001b[0m\u001b[0mnormalize_kwargs\u001b[0m\u001b[1;33m(\u001b[0m\u001b[0mkwargs\u001b[0m\u001b[1;33m,\u001b[0m \u001b[0mmlines\u001b[0m\u001b[1;33m.\u001b[0m\u001b[0mLine2D\u001b[0m\u001b[1;33m)\u001b[0m\u001b[1;33m\u001b[0m\u001b[1;33m\u001b[0m\u001b[0m\n\u001b[1;32m-> 1743\u001b[1;33m         \u001b[0mlines\u001b[0m \u001b[1;33m=\u001b[0m \u001b[1;33m[\u001b[0m\u001b[1;33m*\u001b[0m\u001b[0mself\u001b[0m\u001b[1;33m.\u001b[0m\u001b[0m_get_lines\u001b[0m\u001b[1;33m(\u001b[0m\u001b[1;33m*\u001b[0m\u001b[0margs\u001b[0m\u001b[1;33m,\u001b[0m \u001b[0mdata\u001b[0m\u001b[1;33m=\u001b[0m\u001b[0mdata\u001b[0m\u001b[1;33m,\u001b[0m \u001b[1;33m**\u001b[0m\u001b[0mkwargs\u001b[0m\u001b[1;33m)\u001b[0m\u001b[1;33m]\u001b[0m\u001b[1;33m\u001b[0m\u001b[1;33m\u001b[0m\u001b[0m\n\u001b[0m\u001b[0;32m   1744\u001b[0m         \u001b[1;32mfor\u001b[0m \u001b[0mline\u001b[0m \u001b[1;32min\u001b[0m \u001b[0mlines\u001b[0m\u001b[1;33m:\u001b[0m\u001b[1;33m\u001b[0m\u001b[1;33m\u001b[0m\u001b[0m\n\u001b[0;32m   1745\u001b[0m             \u001b[0mself\u001b[0m\u001b[1;33m.\u001b[0m\u001b[0madd_line\u001b[0m\u001b[1;33m(\u001b[0m\u001b[0mline\u001b[0m\u001b[1;33m)\u001b[0m\u001b[1;33m\u001b[0m\u001b[1;33m\u001b[0m\u001b[0m\n",
      "\u001b[1;32m~\\anaconda3\\lib\\site-packages\\matplotlib\\axes\\_base.py\u001b[0m in \u001b[0;36m__call__\u001b[1;34m(self, data, *args, **kwargs)\u001b[0m\n\u001b[0;32m    271\u001b[0m                 \u001b[0mthis\u001b[0m \u001b[1;33m+=\u001b[0m \u001b[0margs\u001b[0m\u001b[1;33m[\u001b[0m\u001b[1;36m0\u001b[0m\u001b[1;33m]\u001b[0m\u001b[1;33m,\u001b[0m\u001b[1;33m\u001b[0m\u001b[1;33m\u001b[0m\u001b[0m\n\u001b[0;32m    272\u001b[0m                 \u001b[0margs\u001b[0m \u001b[1;33m=\u001b[0m \u001b[0margs\u001b[0m\u001b[1;33m[\u001b[0m\u001b[1;36m1\u001b[0m\u001b[1;33m:\u001b[0m\u001b[1;33m]\u001b[0m\u001b[1;33m\u001b[0m\u001b[1;33m\u001b[0m\u001b[0m\n\u001b[1;32m--> 273\u001b[1;33m             \u001b[1;32myield\u001b[0m \u001b[1;32mfrom\u001b[0m \u001b[0mself\u001b[0m\u001b[1;33m.\u001b[0m\u001b[0m_plot_args\u001b[0m\u001b[1;33m(\u001b[0m\u001b[0mthis\u001b[0m\u001b[1;33m,\u001b[0m \u001b[0mkwargs\u001b[0m\u001b[1;33m)\u001b[0m\u001b[1;33m\u001b[0m\u001b[1;33m\u001b[0m\u001b[0m\n\u001b[0m\u001b[0;32m    274\u001b[0m \u001b[1;33m\u001b[0m\u001b[0m\n\u001b[0;32m    275\u001b[0m     \u001b[1;32mdef\u001b[0m \u001b[0mget_next_color\u001b[0m\u001b[1;33m(\u001b[0m\u001b[0mself\u001b[0m\u001b[1;33m)\u001b[0m\u001b[1;33m:\u001b[0m\u001b[1;33m\u001b[0m\u001b[1;33m\u001b[0m\u001b[0m\n",
      "\u001b[1;32m~\\anaconda3\\lib\\site-packages\\matplotlib\\axes\\_base.py\u001b[0m in \u001b[0;36m_plot_args\u001b[1;34m(self, tup, kwargs)\u001b[0m\n\u001b[0;32m    397\u001b[0m \u001b[1;33m\u001b[0m\u001b[0m\n\u001b[0;32m    398\u001b[0m         \u001b[1;32mif\u001b[0m \u001b[0mx\u001b[0m\u001b[1;33m.\u001b[0m\u001b[0mshape\u001b[0m\u001b[1;33m[\u001b[0m\u001b[1;36m0\u001b[0m\u001b[1;33m]\u001b[0m \u001b[1;33m!=\u001b[0m \u001b[0my\u001b[0m\u001b[1;33m.\u001b[0m\u001b[0mshape\u001b[0m\u001b[1;33m[\u001b[0m\u001b[1;36m0\u001b[0m\u001b[1;33m]\u001b[0m\u001b[1;33m:\u001b[0m\u001b[1;33m\u001b[0m\u001b[1;33m\u001b[0m\u001b[0m\n\u001b[1;32m--> 399\u001b[1;33m             raise ValueError(f\"x and y must have same first dimension, but \"\n\u001b[0m\u001b[0;32m    400\u001b[0m                              f\"have shapes {x.shape} and {y.shape}\")\n\u001b[0;32m    401\u001b[0m         \u001b[1;32mif\u001b[0m \u001b[0mx\u001b[0m\u001b[1;33m.\u001b[0m\u001b[0mndim\u001b[0m \u001b[1;33m>\u001b[0m \u001b[1;36m2\u001b[0m \u001b[1;32mor\u001b[0m \u001b[0my\u001b[0m\u001b[1;33m.\u001b[0m\u001b[0mndim\u001b[0m \u001b[1;33m>\u001b[0m \u001b[1;36m2\u001b[0m\u001b[1;33m:\u001b[0m\u001b[1;33m\u001b[0m\u001b[1;33m\u001b[0m\u001b[0m\n",
      "\u001b[1;31mValueError\u001b[0m: x and y must have same first dimension, but have shapes (21,) and (1000,)"
     ]
    },
    {
     "data": {
      "image/png": "[encoded data removed]",
      "text/plain": [
       "<Figure size 432x288 with 1 Axes>"
      ]
     },
     "metadata": {
      "needs_background": "light"
     },
     "output_type": "display_data"
    }
   ],
   "source": [
    "import numpy as np\n",
    "import matplotlib.pyplot as plt\n",
    "\n",
    "def run_experiment(total_coins, total_flips, plot=False):\n",
    "    # Flip coins\n",
    "    flips = np.random.randint(2, size=(total_coins, total_flips))\n",
    "\n",
    "    # Compute fraction of heads for each coin\n",
    "    fractions = np.mean(flips, axis=1)\n",
    "\n",
    "    # Compute fractions for selected coins\n",
    "    first_coin = fractions[0]\n",
    "    random_coin = fractions[np.random.randint(total_coins)]\n",
    "    min_coin = np.min(fractions)\n",
    "\n",
    "    # Compute absolute differences\n",
    "    abs_diff_random = np.abs(random_coin - fractions)\n",
    "    abs_diff_min = np.abs(min_coin - fractions)\n",
    "\n",
    "    # Compute Hoeffding bound\n",
    "    hoeffding = 2 * np.exp(-2 * total_flips * (abs_diff_random**2))\n",
    "\n",
    "    # Plot histograms\n",
    "    if plot:\n",
    "        plt.hist(fractions, bins=20, density=True, alpha=0.5, label='All Coins')\n",
    "        plt.hist(random_coin, bins=20, density=True, alpha=0.5, label='Random Coin')\n",
    "        plt.hist(min_coin, bins=20, density=True, alpha=0.5, label='Minimum Frequency Coin')\n",
    "        plt.legend()\n",
    "        plt.show()\n",
    "\n",
    "    return first_coin, random_coin, min_coin, hoeffding\n",
    "\n",
    "# Run experiment 100,000 times\n",
    "results = np.array([run_experiment(1000, 10) for i in range(100000)])\n",
    "\n",
    "# Extract results\n",
    "first_coin_results = results[:, 0]\n",
    "random_coin_results = results[:, 1]\n",
    "min_coin_results = results[:, 2]\n",
    "hoeffding = results[0, 3]\n",
    "\n",
    "# Compute absolute differences\n",
    "abs_diff_random_results = np.abs(random_coin_results - first_coin_results)\n",
    "abs_diff_min_results = np.abs(min_coin_results - first_coin_results)\n",
    "\n",
    "# Compute empirical probabilities\n",
    "epsilons = np.arange(0, 1.05, 0.05)\n",
    "p_random = np.array([np.mean(abs_diff_random_results > epsilon) for epsilon in epsilons])\n",
    "p_min = np.array([np.mean(abs_diff_min_results > epsilon) for epsilon in epsilons])\n",
    "\n",
    "# Plot results\n",
    "plt.plot(epsilons, p_random, label='Random Coin')\n",
    "plt.plot(epsilons, p_min, label='Minimum Frequency Coin')\n",
    "plt.plot(epsilons, hoeffding, label='Hoeffding Bound')\n",
    "plt.xlabel('$\\epsilon$')\n",
    "plt.ylabel('$P[|V - \\mu| > \\epsilon]$')\n",
    "plt.legend()\n",
    "plt.show()"
   ]
  },
  {
   "cell_type": "markdown",
   "id": "f6f93e71",
   "metadata": {},
   "source": [
    "(d) Which coins obey the Hoeffding bound, and which ones do not? Ex-\n",
    "plain why."
   ]
  },
  {
   "cell_type": "markdown",
   "id": "8ea9e2ea",
   "metadata": {},
   "source": [
    "Con base en la gráfica de la parte (c), podemos ver que el límite de Hoeffding es un límite muy flexible para las tres monedas, ya que las tres monedas tienen muchos casos en los que la diferencia entre la fracción observada de caras y la probabilidad real es mayor que el límite Sin embargo, aún podemos examinar qué monedas tienden a obedecer el límite con más frecuencia.\n",
    "\n",
    "Podemos ver en la gráfica que la moneda elegida al azar Vrand tiende a obedecer el límite de Hoeffding con más frecuencia que las otras dos monedas, ya que $P[|Vrand - 0.5| > \\epsilon]$ la curva está generalmente por debajo de la curva límite de Hoeffding para todos los valores de e. Esto tiene sentido porque el límite de Hoeffding se basa en la suposición de que la probabilidad de obtener cara es de 0,5, y elegir una moneda al azar nos da una mayor probabilidad de obtener una moneda que esté cerca de ser justa.\n",
    "\n",
    "Por otro lado, la moneda con la frecuencia mínima de caras Vmin tiende a violar el límite de Hoeffding con más frecuencia que las otras dos monedas. Esto se debe a que si una moneda tiene una frecuencia muy baja de caras, el límite de Hoeffding será muy flexible y podemos observar una desviación mucho mayor entre la fracción observada de caras y la probabilidad real.\n",
    "\n",
    "La primera moneda lanzada V1 parece tener un rendimiento similar al de la moneda con la frecuencia mínima de caras, ya que a menudo viola el límite de Hoeffding. Esto tiene sentido porque solo estamos viendo la primera moneda lanzada al aire, lo que puede no ser representativo de la verdadera probabilidad, y el límite de Hoeffding puede no ser apropiado en este caso.\n",
    "\n",
    "En general, aunque el límite de Hoeffding proporciona una garantía teórica útil, no siempre es un reflejo preciso de la probabilidad real en la práctica, especialmente cuando el número de muestras es pequeño o la probabilidad de éxito está lejos de 0,5."
   ]
  },
  {
   "cell_type": "markdown",
   "id": "283088e9",
   "metadata": {},
   "source": [
    "### Ejercicio 1.11"
   ]
  },
  {
   "cell_type": "markdown",
   "id": "38189ea6",
   "metadata": {},
   "source": [
    "We are given a data set $D$ of $25$ training examples from an unknown target\n",
    "function $f: X -> Y$, where $ X= R$ and $Y = (—1,+1)$. To learn f, we use\n",
    "a simple hypothesis set $H = {h_{1},h_{2}}$  where $h1$ is the constant $+1$ function and $h_{2}$ is the constant $—1$.\n",
    "\n",
    "We consider two learning algorithms, $S$ (smart) and $C$ (crazy). $S$ chooses the hypothesis that agrees the most with $D$ and $C$ chooses the other hypothesis deliberately. Let us see how these algorithms perform out of sample from the deterministic and probabilistic points of view. Assume in the probabilistic view that there is a probability distribution on $X$,and let $P[f(x) = +1] =p.\n",
    "\n",
    "(a) Can S produce a hypothesis that is guaranteed to perform better thar random on any point outside $D$?\n",
    "\n",
    "Solución \n",
    "(a) $S% no puede producir una hipótesis que garantice mejores resultados que el azar en ningún punto fuera de $D$.\n",
    "\n",
    "\n",
    "(b) Assume for the rest of the exercise that all the examples in $D$ have.\n",
    "$Y_{n} =+1$ Is it possible that the hypothesis that $C$ produces tums out\n",
    "to be better than the hypothesis that S produces?\n",
    "\n",
    "Es posible que $C$ produzca una hipótesis mejor que $S$  produce.\n",
    "\n",
    "\n",
    "(c) If $p = 0.9$, what is the probability that $S$ will produce a better \n",
    "hypothesis than $C$?\n",
    "\n",
    "(c) Si cada punto en $D$ tiene 1, entonces $S$ elegirá y elegirá $h_{1}$ y $C$ llegará a escoger $h_{2}$. Así que fuera de $D$ , $h_{1}$ tendrá un 90% de posibilidades de coincidir con $f$ , mientras que $h_{2}$ tendrá sólo un 10% de posibilidades $S$ siempre producirá una hipótesis mejor que $C$ \n",
    ".\n",
    "\n",
    "(d) Is there any value of p for which it is more likely than not that C will produce a better hypothesis than S?\n",
    "\n",
    "\n",
    "(d) Del problema anterior, podemos ver que cuando $p<0.5$, $C$ producirá una hipótesis mejor que $S$ Puesto que $C$ siempre produce $h_{2}$ que coincidirá con $f$ mejor que $h_{1}$  si $p<0.5$"
   ]
  },
  {
   "cell_type": "markdown",
   "id": "d47e3f74",
   "metadata": {},
   "source": [
    "### Ejercicio 1.12"
   ]
  },
  {
   "cell_type": "markdown",
   "id": "97bb8c51",
   "metadata": {},
   "source": [
    "A friend comes to you with a learning problem. She says the target func-\n",
    "tion f is completely unknown, but she has 4,000 data points. She is\n",
    "willing to pay you to solve her problem and produce for her a $g$ which\n",
    "approximates $f$. What is the best that you can promise her among the\n",
    "following:\n",
    "\n",
    "(a) After learning you will provide her with a $g$ that you will guarantee\n",
    "approximates $f$ well out of sample.\n",
    "\n",
    "(b) After learning you will provide her with a $g$ , and with high probability the $g$ which you produce will approximate $f$ well out of sample.\n",
    "\n",
    "(c) One of two things will happen\n",
    "\n",
    "(i) You will produce a hypothesis $g$;\n",
    "\n",
    "(íi) You will declare that you failed.\n",
    "\n",
    "If you do return a hypothesis $g$, then with high probability the $g$ which\n",
    "you produce will approximate $f$ well out of sample.\n"
   ]
  },
  {
   "cell_type": "markdown",
   "id": "fae85607",
   "metadata": {},
   "source": [
    "Dado que la función objetivo $f$ es completamente desconocida, es imposible garantizar que $g$ se aproximará bien a $f$ fuera de la muestra. Lo mejor que podemos prometer es proporcionar una hipótesis $g$ que se haya entrenado con los datos disponibles y que tenga una alta probabilidad de aproximarse bien a $f$ fuera de la muestra. Esto significa que las opciones (a) y (b) no son viables.\n",
    "\n",
    "La opción (c) es la mejor opción porque reconoce la incertidumbre del problema y proporciona una alternativa clara si falla el proceso de aprendizaje. Con esta opción, podemos producir una hipótesis $g$ con una alta probabilidad de aproximarse bien a $f$ fuera de la muestra. Si no podemos producir una hipótesis $g$ que satisfaga nuestros criterios, declaramos el fracaso. Este enfoque garantiza que no hagamos falsas promesas y que seamos transparentes sobre las limitaciones del proceso de aprendizaje."
   ]
  },
  {
   "cell_type": "code",
   "execution_count": null,
   "id": "c481d823",
   "metadata": {},
   "outputs": [],
   "source": []
  }
 ],
 "metadata": {
  "kernelspec": {
   "display_name": "Python 3",
   "language": "python",
   "name": "python3"
  },
  "language_info": {
   "codemirror_mode": {
    "name": "ipython",
    "version": 3
   },
   "file_extension": ".py",
   "mimetype": "text/x-python",
   "name": "python",
   "nbconvert_exporter": "python",
   "pygments_lexer": "ipython3",
   "version": "3.8.8"
  }
 },
 "nbformat": 4,
 "nbformat_minor": 5
}
